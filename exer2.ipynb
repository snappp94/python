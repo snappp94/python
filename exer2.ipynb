{
 "cells": [
  {
   "cell_type": "markdown",
   "metadata": {},
   "source": [
    "## 第二次练习\n"
   ]
  },
  {
   "cell_type": "markdown",
   "metadata": {},
   "source": [
    "### 第一题\n",
    "列出一个包括四门选修课的清单，例如“心理学通论”和“电影鉴赏”。\n",
    "\n",
    "- 使用 append（） 函数将新课目添加到列表中。\n",
    "- 使用 insert（） 函数在列表开头添加新课目。\n",
    "- 使用循环显示列表中的所有课目。"
   ]
  },
  {
   "cell_type": "markdown",
   "metadata": {},
   "source": [
    "### 第二题\n",
    "从空列表开始\n",
    "\n",
    "- 创建你想工作和生活下去的城市列表，但这次以空列表开始并使用 append（） 语句填充它。\n",
    "- 告诉我们你想到的第一个城市是哪座城市。\n",
    "- 告诉我们你最后想到的城市是哪。"
   ]
  },
  {
   "cell_type": "code",
   "execution_count": 6,
   "metadata": {},
   "outputs": [],
   "source": [
    "\n",
    "school='统计学院'"
   ]
  },
  {
   "cell_type": "markdown",
   "metadata": {},
   "source": [
    "### 第三题\n",
    "\n",
    "有序列表\n",
    "\n",
    "从你创建的城市列表开始。\n",
    "\n",
    "- 按原始顺序打印列表。\n",
    "- 按排序顺序打印列表。\n",
    "- 按反向顺序打印列表。\n",
    "- 按原始顺序打印列表。\n",
    "- 以与开始时相反的顺序打印列表。\n",
    "- 按顺序对列表进行永久排序，然后将其打印出来。\n",
    "- 按反向顺序对列表进行永久排序，然后将其打印出来。\n"
   ]
  },
  {
   "cell_type": "markdown",
   "metadata": {},
   "source": [
    "### 第四题\n",
    "\n",
    "\n",
    "飞机在沙漠失事，从15件物品中选择五种，你选哪些？\n",
    "我们团队有6人乘飞机去度假，飞机在撒哈拉沙漠失事，我们要从15件物品中选5件去附近70公里的煤矿小城！如果是你你会选什么并说明选择的原因！！！\n",
    "\n",
    "一支闪光信号灯\n",
    "\n",
    "一把军刀\n",
    "\n",
    "一张该沙漠地区的飞行地图\n",
    "\n",
    "6件大号塑料雨衣\n",
    "\n",
    "一个指南针\n",
    "\n",
    "一个小型量器仪（温度计，气压计，雨量计）\n",
    "\n",
    "一把手枪（有子弹）\n",
    "\n",
    "三把降落伞\n",
    "\n",
    "一瓶维他命丸（100粒）\n",
    "\n",
    "10加仑水\n",
    "\n",
    "化妆镜\n",
    "\n",
    "6副太阳镜\n",
    "\n",
    "2加仑伏特加酒\n",
    "\n",
    "6件厚衣服\n",
    "\n",
    "一本《沙漠动物》百科全书\n",
    "\n",
    "- 建立一个列表，包含上述15件物品\n",
    "- 按位置一次删除一个，删除10件物品\n",
    "- 依次打印出来你最后保留的5件物品，并在最后说明你选择它们的理由"
   ]
  },
  {
   "cell_type": "markdown",
   "metadata": {},
   "source": [
    "### 第五题\n",
    "\n",
    "过年的时候你收到了5个红包，每个红包里都有一定数额的钱。\n",
    "\n",
    "- 建立一个列表，包含5个红包里的钱的数额\n",
    "- 依次打印出来每个红包多少钱\n",
    "- 计算一共多少钱"
   ]
  },
  {
   "cell_type": "code",
   "execution_count": null,
   "metadata": {},
   "outputs": [],
   "source": []
  },
  {
   "cell_type": "code",
   "execution_count": null,
   "metadata": {},
   "outputs": [],
   "source": []
  },
  {
   "cell_type": "code",
   "execution_count": null,
   "metadata": {},
   "outputs": [],
   "source": []
  }
 ],
 "metadata": {
  "kernelspec": {
   "display_name": "Python 3 (ipykernel)",
   "language": "python",
   "name": "python3"
  },
  "language_info": {
   "codemirror_mode": {
    "name": "ipython",
    "version": 3
   },
   "file_extension": ".py",
   "mimetype": "text/x-python",
   "name": "python",
   "nbconvert_exporter": "python",
   "pygments_lexer": "ipython3",
   "version": "3.9.16"
  },
  "toc": {
   "base_numbering": 1,
   "nav_menu": {},
   "number_sections": true,
   "sideBar": true,
   "skip_h1_title": false,
   "title_cell": "Table of Contents",
   "title_sidebar": "Contents",
   "toc_cell": false,
   "toc_position": {},
   "toc_section_display": true,
   "toc_window_display": false
  }
 },
 "nbformat": 4,
 "nbformat_minor": 2
}
